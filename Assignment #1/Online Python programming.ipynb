{
 "cells": [
  {
   "cell_type": "code",
   "execution_count": 1,
   "id": "472e964b",
   "metadata": {},
   "outputs": [
    {
     "name": "stdout",
     "output_type": "stream",
     "text": [
      "Twinkle,twinkle,little star,\n",
      "        How I wonder what you arel\n",
      "                Up above the world so high,\n",
      "                Like a diamond in the sky.\n",
      "Twinkle,twinkle,little star,\n",
      "        How i wonder what you are\n"
     ]
    }
   ],
   "source": [
    "print(\"Twinkle,twinkle,little star,\");\n",
    "print(\"        How I wonder what you arel\");\n",
    "print(\"                Up above the world so high,\");\n",
    "print(\"                Like a diamond in the sky.\");\n",
    "print(\"Twinkle,twinkle,little star,\");\n",
    "print(\"        How i wonder what you are\");"
   ]
  },
  {
   "cell_type": "code",
   "execution_count": 2,
   "id": "891f0aad",
   "metadata": {},
   "outputs": [
    {
     "name": "stdout",
     "output_type": "stream",
     "text": [
      "3.8.8 (default, Apr 13 2021, 15:08:03) [MSC v.1916 64 bit (AMD64)]\n"
     ]
    }
   ],
   "source": [
    "import sys\n",
    "print(sys.version)"
   ]
  },
  {
   "cell_type": "code",
   "execution_count": 3,
   "id": "a92cbc41",
   "metadata": {},
   "outputs": [
    {
     "name": "stdout",
     "output_type": "stream",
     "text": [
      "Current date and time : \n",
      "2021-10-24 14:49:13\n"
     ]
    }
   ],
   "source": [
    "import datetime\n",
    "now = datetime.datetime.now()\n",
    "print (\"Current date and time : \")\n",
    "print (now.strftime(\"%Y-%m-%d %H:%M:%S\"))"
   ]
  },
  {
   "cell_type": "code",
   "execution_count": 4,
   "id": "10a7aac7",
   "metadata": {},
   "outputs": [
    {
     "name": "stdout",
     "output_type": "stream",
     "text": [
      "2\n",
      "72\n"
     ]
    }
   ],
   "source": [
    "x =int(9.12)\n",
    "r = int(input())\n",
    "a = 2 * x * (r**2) \n",
    "print(a)"
   ]
  },
  {
   "cell_type": "code",
   "execution_count": 5,
   "id": "030b4998",
   "metadata": {},
   "outputs": [
    {
     "name": "stdout",
     "output_type": "stream",
     "text": [
      "first nameAli\n",
      "second nameShehzad\n",
      "ShehzadAli\n"
     ]
    }
   ],
   "source": [
    "a = input(\"first name\")\n",
    "b = input(\"second name\")\n",
    "print(b +  a)\n"
   ]
  },
  {
   "cell_type": "code",
   "execution_count": 6,
   "id": "546f1c40",
   "metadata": {},
   "outputs": [
    {
     "name": "stdout",
     "output_type": "stream",
     "text": [
      "python\n",
      "programming\n",
      "pythonprogramming\n"
     ]
    }
   ],
   "source": [
    "a = input()\n",
    "b = input()\n",
    "print(a +  b)"
   ]
  },
  {
   "cell_type": "code",
   "execution_count": 7,
   "id": "24f12e9f",
   "metadata": {},
   "outputs": [
    {
     "name": "stdout",
     "output_type": "stream",
     "text": [
      "80\n",
      "75\n",
      "45\n",
      "55\n",
      "40\n",
      "295\n",
      "59.0\n"
     ]
    }
   ],
   "source": [
    "english = int(input())\n",
    "urdu = int(input())\n",
    "maths = int(input())\n",
    "pashto = int(input())\n",
    "python = int(input())\n",
    "total = (english + urdu + maths + pashto + python)\n",
    "parcentage = (total / 500 * 100)\n",
    "print(total)\n",
    "print(parcentage)"
   ]
  },
  {
   "cell_type": "code",
   "execution_count": 8,
   "id": "095ef02d",
   "metadata": {},
   "outputs": [
    {
     "ename": "SyntaxError",
     "evalue": "invalid syntax (<ipython-input-8-9427cf934082>, line 4)",
     "output_type": "error",
     "traceback": [
      "\u001b[1;36m  File \u001b[1;32m\"<ipython-input-8-9427cf934082>\"\u001b[1;36m, line \u001b[1;32m4\u001b[0m\n\u001b[1;33m    print(x,even num):\u001b[0m\n\u001b[1;37m                 ^\u001b[0m\n\u001b[1;31mSyntaxError\u001b[0m\u001b[1;31m:\u001b[0m invalid syntax\n"
     ]
    }
   ],
   "source": [
    "x = int(input())\n",
    "y = x % 2;\n",
    "if y == 0:\n",
    "    print(x,even num):\n",
    "else:\n",
    "    print(x,odd num)"
   ]
  },
  {
   "cell_type": "code",
   "execution_count": 9,
   "id": "59dd1048",
   "metadata": {},
   "outputs": [
    {
     "name": "stdout",
     "output_type": "stream",
     "text": [
      "3\n"
     ]
    }
   ],
   "source": [
    "x = [\"apple\", \"banana\", \"cherry\"]\n",
    "print(len(x))"
   ]
  },
  {
   "cell_type": "code",
   "execution_count": 10,
   "id": "9e5434ef",
   "metadata": {},
   "outputs": [
    {
     "name": "stdout",
     "output_type": "stream",
     "text": [
      "[8]\n"
     ]
    }
   ],
   "source": [
    "a = [ 2 + 3 + 3]\n",
    "print(a)"
   ]
  },
  {
   "cell_type": "code",
   "execution_count": 11,
   "id": "c6d12a5e",
   "metadata": {},
   "outputs": [
    {
     "name": "stdout",
     "output_type": "stream",
     "text": [
      "31\n"
     ]
    }
   ],
   "source": [
    "a = [ 2, 31, 3, 5, 10]\n",
    "print(max(a))"
   ]
  },
  {
   "cell_type": "code",
   "execution_count": null,
   "id": "c1b283ef",
   "metadata": {},
   "outputs": [],
   "source": []
  }
 ],
 "metadata": {
  "kernelspec": {
   "display_name": "Python 3",
   "language": "python",
   "name": "python3"
  },
  "language_info": {
   "codemirror_mode": {
    "name": "ipython",
    "version": 3
   },
   "file_extension": ".py",
   "mimetype": "text/x-python",
   "name": "python",
   "nbconvert_exporter": "python",
   "pygments_lexer": "ipython3",
   "version": "3.8.8"
  }
 },
 "nbformat": 4,
 "nbformat_minor": 5
}
